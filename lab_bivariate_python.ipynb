{
 "cells": [
  {
   "cell_type": "markdown",
   "id": "ef46d60e",
   "metadata": {},
   "source": [
    "## Lab - EDA Bivariate Analysis: Diving into Amazon UK Product Insights Part II\n",
    "\n",
    "Objective: Delve into the dynamics of product pricing on Amazon UK to uncover insights that can inform business strategies and decision-making.\n",
    "\n",
    "Dataset: This lab utilizes the Amazon UK product dataset which provides information on product categories, brands, prices, ratings, and more from from Amazon UK. You'll need to download it to start working with it."
   ]
  },
  {
   "cell_type": "markdown",
   "id": "ed273334",
   "metadata": {},
   "source": [
    "# Part 1: Analyzing Best-Seller Trends Across Product Categories\n",
    "\n",
    "Objective: Understand the relationship between product categories and their best-seller status.\n",
    "\n",
    "1. Crosstab Analysis:\n",
    "- Create a crosstab between the product category and the isBestSeller status.\n",
    "- Are there categories where being a best-seller is more prevalent?\n",
    "- Hint: one option is to calculate the proportion of best-sellers for each category and then sort the categories based on this proportion in descending order."
   ]
  },
  {
   "cell_type": "code",
   "execution_count": 1,
   "id": "8099966f",
   "metadata": {},
   "outputs": [],
   "source": [
    "import pandas as pd\n",
    "import matplotlib.pyplot as plt\n",
    "import seaborn as sns\n",
    "import numpy as np\n",
    "\n",
    "%matplotlib inline"
   ]
  },
  {
   "cell_type": "code",
   "execution_count": 2,
   "id": "b0e188b5",
   "metadata": {},
   "outputs": [
    {
     "ename": "FileNotFoundError",
     "evalue": "[Errno 2] No such file or directory: 'amz_uk_price_prediction_dataset.csv'",
     "output_type": "error",
     "traceback": [
      "\u001b[0;31m---------------------------------------------------------------------------\u001b[0m",
      "\u001b[0;31mFileNotFoundError\u001b[0m                         Traceback (most recent call last)",
      "Cell \u001b[0;32mIn[2], line 1\u001b[0m\n\u001b[0;32m----> 1\u001b[0m df\u001b[38;5;241m=\u001b[39mpd\u001b[38;5;241m.\u001b[39mread_csv(\u001b[38;5;124m\"\u001b[39m\u001b[38;5;124mamz_uk_price_prediction_dataset.csv\u001b[39m\u001b[38;5;124m\"\u001b[39m)\n\u001b[1;32m      2\u001b[0m df\u001b[38;5;241m.\u001b[39mhead()\n",
      "File \u001b[0;32m/opt/anaconda3/lib/python3.12/site-packages/pandas/io/parsers/readers.py:1026\u001b[0m, in \u001b[0;36mread_csv\u001b[0;34m(filepath_or_buffer, sep, delimiter, header, names, index_col, usecols, dtype, engine, converters, true_values, false_values, skipinitialspace, skiprows, skipfooter, nrows, na_values, keep_default_na, na_filter, verbose, skip_blank_lines, parse_dates, infer_datetime_format, keep_date_col, date_parser, date_format, dayfirst, cache_dates, iterator, chunksize, compression, thousands, decimal, lineterminator, quotechar, quoting, doublequote, escapechar, comment, encoding, encoding_errors, dialect, on_bad_lines, delim_whitespace, low_memory, memory_map, float_precision, storage_options, dtype_backend)\u001b[0m\n\u001b[1;32m   1013\u001b[0m kwds_defaults \u001b[38;5;241m=\u001b[39m _refine_defaults_read(\n\u001b[1;32m   1014\u001b[0m     dialect,\n\u001b[1;32m   1015\u001b[0m     delimiter,\n\u001b[0;32m   (...)\u001b[0m\n\u001b[1;32m   1022\u001b[0m     dtype_backend\u001b[38;5;241m=\u001b[39mdtype_backend,\n\u001b[1;32m   1023\u001b[0m )\n\u001b[1;32m   1024\u001b[0m kwds\u001b[38;5;241m.\u001b[39mupdate(kwds_defaults)\n\u001b[0;32m-> 1026\u001b[0m \u001b[38;5;28;01mreturn\u001b[39;00m _read(filepath_or_buffer, kwds)\n",
      "File \u001b[0;32m/opt/anaconda3/lib/python3.12/site-packages/pandas/io/parsers/readers.py:620\u001b[0m, in \u001b[0;36m_read\u001b[0;34m(filepath_or_buffer, kwds)\u001b[0m\n\u001b[1;32m    617\u001b[0m _validate_names(kwds\u001b[38;5;241m.\u001b[39mget(\u001b[38;5;124m\"\u001b[39m\u001b[38;5;124mnames\u001b[39m\u001b[38;5;124m\"\u001b[39m, \u001b[38;5;28;01mNone\u001b[39;00m))\n\u001b[1;32m    619\u001b[0m \u001b[38;5;66;03m# Create the parser.\u001b[39;00m\n\u001b[0;32m--> 620\u001b[0m parser \u001b[38;5;241m=\u001b[39m TextFileReader(filepath_or_buffer, \u001b[38;5;241m*\u001b[39m\u001b[38;5;241m*\u001b[39mkwds)\n\u001b[1;32m    622\u001b[0m \u001b[38;5;28;01mif\u001b[39;00m chunksize \u001b[38;5;129;01mor\u001b[39;00m iterator:\n\u001b[1;32m    623\u001b[0m     \u001b[38;5;28;01mreturn\u001b[39;00m parser\n",
      "File \u001b[0;32m/opt/anaconda3/lib/python3.12/site-packages/pandas/io/parsers/readers.py:1620\u001b[0m, in \u001b[0;36mTextFileReader.__init__\u001b[0;34m(self, f, engine, **kwds)\u001b[0m\n\u001b[1;32m   1617\u001b[0m     \u001b[38;5;28mself\u001b[39m\u001b[38;5;241m.\u001b[39moptions[\u001b[38;5;124m\"\u001b[39m\u001b[38;5;124mhas_index_names\u001b[39m\u001b[38;5;124m\"\u001b[39m] \u001b[38;5;241m=\u001b[39m kwds[\u001b[38;5;124m\"\u001b[39m\u001b[38;5;124mhas_index_names\u001b[39m\u001b[38;5;124m\"\u001b[39m]\n\u001b[1;32m   1619\u001b[0m \u001b[38;5;28mself\u001b[39m\u001b[38;5;241m.\u001b[39mhandles: IOHandles \u001b[38;5;241m|\u001b[39m \u001b[38;5;28;01mNone\u001b[39;00m \u001b[38;5;241m=\u001b[39m \u001b[38;5;28;01mNone\u001b[39;00m\n\u001b[0;32m-> 1620\u001b[0m \u001b[38;5;28mself\u001b[39m\u001b[38;5;241m.\u001b[39m_engine \u001b[38;5;241m=\u001b[39m \u001b[38;5;28mself\u001b[39m\u001b[38;5;241m.\u001b[39m_make_engine(f, \u001b[38;5;28mself\u001b[39m\u001b[38;5;241m.\u001b[39mengine)\n",
      "File \u001b[0;32m/opt/anaconda3/lib/python3.12/site-packages/pandas/io/parsers/readers.py:1880\u001b[0m, in \u001b[0;36mTextFileReader._make_engine\u001b[0;34m(self, f, engine)\u001b[0m\n\u001b[1;32m   1878\u001b[0m     \u001b[38;5;28;01mif\u001b[39;00m \u001b[38;5;124m\"\u001b[39m\u001b[38;5;124mb\u001b[39m\u001b[38;5;124m\"\u001b[39m \u001b[38;5;129;01mnot\u001b[39;00m \u001b[38;5;129;01min\u001b[39;00m mode:\n\u001b[1;32m   1879\u001b[0m         mode \u001b[38;5;241m+\u001b[39m\u001b[38;5;241m=\u001b[39m \u001b[38;5;124m\"\u001b[39m\u001b[38;5;124mb\u001b[39m\u001b[38;5;124m\"\u001b[39m\n\u001b[0;32m-> 1880\u001b[0m \u001b[38;5;28mself\u001b[39m\u001b[38;5;241m.\u001b[39mhandles \u001b[38;5;241m=\u001b[39m get_handle(\n\u001b[1;32m   1881\u001b[0m     f,\n\u001b[1;32m   1882\u001b[0m     mode,\n\u001b[1;32m   1883\u001b[0m     encoding\u001b[38;5;241m=\u001b[39m\u001b[38;5;28mself\u001b[39m\u001b[38;5;241m.\u001b[39moptions\u001b[38;5;241m.\u001b[39mget(\u001b[38;5;124m\"\u001b[39m\u001b[38;5;124mencoding\u001b[39m\u001b[38;5;124m\"\u001b[39m, \u001b[38;5;28;01mNone\u001b[39;00m),\n\u001b[1;32m   1884\u001b[0m     compression\u001b[38;5;241m=\u001b[39m\u001b[38;5;28mself\u001b[39m\u001b[38;5;241m.\u001b[39moptions\u001b[38;5;241m.\u001b[39mget(\u001b[38;5;124m\"\u001b[39m\u001b[38;5;124mcompression\u001b[39m\u001b[38;5;124m\"\u001b[39m, \u001b[38;5;28;01mNone\u001b[39;00m),\n\u001b[1;32m   1885\u001b[0m     memory_map\u001b[38;5;241m=\u001b[39m\u001b[38;5;28mself\u001b[39m\u001b[38;5;241m.\u001b[39moptions\u001b[38;5;241m.\u001b[39mget(\u001b[38;5;124m\"\u001b[39m\u001b[38;5;124mmemory_map\u001b[39m\u001b[38;5;124m\"\u001b[39m, \u001b[38;5;28;01mFalse\u001b[39;00m),\n\u001b[1;32m   1886\u001b[0m     is_text\u001b[38;5;241m=\u001b[39mis_text,\n\u001b[1;32m   1887\u001b[0m     errors\u001b[38;5;241m=\u001b[39m\u001b[38;5;28mself\u001b[39m\u001b[38;5;241m.\u001b[39moptions\u001b[38;5;241m.\u001b[39mget(\u001b[38;5;124m\"\u001b[39m\u001b[38;5;124mencoding_errors\u001b[39m\u001b[38;5;124m\"\u001b[39m, \u001b[38;5;124m\"\u001b[39m\u001b[38;5;124mstrict\u001b[39m\u001b[38;5;124m\"\u001b[39m),\n\u001b[1;32m   1888\u001b[0m     storage_options\u001b[38;5;241m=\u001b[39m\u001b[38;5;28mself\u001b[39m\u001b[38;5;241m.\u001b[39moptions\u001b[38;5;241m.\u001b[39mget(\u001b[38;5;124m\"\u001b[39m\u001b[38;5;124mstorage_options\u001b[39m\u001b[38;5;124m\"\u001b[39m, \u001b[38;5;28;01mNone\u001b[39;00m),\n\u001b[1;32m   1889\u001b[0m )\n\u001b[1;32m   1890\u001b[0m \u001b[38;5;28;01massert\u001b[39;00m \u001b[38;5;28mself\u001b[39m\u001b[38;5;241m.\u001b[39mhandles \u001b[38;5;129;01mis\u001b[39;00m \u001b[38;5;129;01mnot\u001b[39;00m \u001b[38;5;28;01mNone\u001b[39;00m\n\u001b[1;32m   1891\u001b[0m f \u001b[38;5;241m=\u001b[39m \u001b[38;5;28mself\u001b[39m\u001b[38;5;241m.\u001b[39mhandles\u001b[38;5;241m.\u001b[39mhandle\n",
      "File \u001b[0;32m/opt/anaconda3/lib/python3.12/site-packages/pandas/io/common.py:873\u001b[0m, in \u001b[0;36mget_handle\u001b[0;34m(path_or_buf, mode, encoding, compression, memory_map, is_text, errors, storage_options)\u001b[0m\n\u001b[1;32m    868\u001b[0m \u001b[38;5;28;01melif\u001b[39;00m \u001b[38;5;28misinstance\u001b[39m(handle, \u001b[38;5;28mstr\u001b[39m):\n\u001b[1;32m    869\u001b[0m     \u001b[38;5;66;03m# Check whether the filename is to be opened in binary mode.\u001b[39;00m\n\u001b[1;32m    870\u001b[0m     \u001b[38;5;66;03m# Binary mode does not support 'encoding' and 'newline'.\u001b[39;00m\n\u001b[1;32m    871\u001b[0m     \u001b[38;5;28;01mif\u001b[39;00m ioargs\u001b[38;5;241m.\u001b[39mencoding \u001b[38;5;129;01mand\u001b[39;00m \u001b[38;5;124m\"\u001b[39m\u001b[38;5;124mb\u001b[39m\u001b[38;5;124m\"\u001b[39m \u001b[38;5;129;01mnot\u001b[39;00m \u001b[38;5;129;01min\u001b[39;00m ioargs\u001b[38;5;241m.\u001b[39mmode:\n\u001b[1;32m    872\u001b[0m         \u001b[38;5;66;03m# Encoding\u001b[39;00m\n\u001b[0;32m--> 873\u001b[0m         handle \u001b[38;5;241m=\u001b[39m \u001b[38;5;28mopen\u001b[39m(\n\u001b[1;32m    874\u001b[0m             handle,\n\u001b[1;32m    875\u001b[0m             ioargs\u001b[38;5;241m.\u001b[39mmode,\n\u001b[1;32m    876\u001b[0m             encoding\u001b[38;5;241m=\u001b[39mioargs\u001b[38;5;241m.\u001b[39mencoding,\n\u001b[1;32m    877\u001b[0m             errors\u001b[38;5;241m=\u001b[39merrors,\n\u001b[1;32m    878\u001b[0m             newline\u001b[38;5;241m=\u001b[39m\u001b[38;5;124m\"\u001b[39m\u001b[38;5;124m\"\u001b[39m,\n\u001b[1;32m    879\u001b[0m         )\n\u001b[1;32m    880\u001b[0m     \u001b[38;5;28;01melse\u001b[39;00m:\n\u001b[1;32m    881\u001b[0m         \u001b[38;5;66;03m# Binary mode\u001b[39;00m\n\u001b[1;32m    882\u001b[0m         handle \u001b[38;5;241m=\u001b[39m \u001b[38;5;28mopen\u001b[39m(handle, ioargs\u001b[38;5;241m.\u001b[39mmode)\n",
      "\u001b[0;31mFileNotFoundError\u001b[0m: [Errno 2] No such file or directory: 'amz_uk_price_prediction_dataset.csv'"
     ]
    }
   ],
   "source": [
    "df=pd.read_csv(\"amz_uk_price_prediction_dataset.csv\")\n",
    "df.head()"
   ]
  },
  {
   "cell_type": "code",
   "execution_count": null,
   "id": "b5ca741b",
   "metadata": {},
   "outputs": [],
   "source": [
    "crosstab= pd.crosstab(df['category'], df['isBestSeller'])\n",
    "\n",
    "crosstab"
   ]
  },
  {
   "cell_type": "code",
   "execution_count": null,
   "id": "54c2eae8",
   "metadata": {},
   "outputs": [],
   "source": [
    "corsstab_sorted=crosstab.sort_values(by=True,ascending=False)\n",
    "print(corsstab_sorted)\n",
    "\n",
    "print(\"En ninguna categoría hay un full de bestsellers o prevalece sobre el resto, pero la que más tiene es Grocery, seguida de Health & Personal Care\")"
   ]
  },
  {
   "cell_type": "markdown",
   "id": "dd691b41",
   "metadata": {},
   "source": [
    "2. Statistical Tests:\n",
    "- Conduct a Chi-square test to determine if the best-seller distribution is independent of the product category.\n",
    "- Compute Cramér's V to understand the strength of association between best-seller status and category."
   ]
  },
  {
   "cell_type": "code",
   "execution_count": null,
   "id": "514144cf",
   "metadata": {},
   "outputs": [],
   "source": [
    "from scipy.stats import chi2_contingency\n",
    "\n",
    "# Chi-square test for 'category' and 'isBestSeller'\n",
    "chi2_statistic, chi2_p_value, _, _ = chi2_contingency(crosstab)\n",
    "\n",
    "chi2_statistic, chi2_p_value"
   ]
  },
  {
   "cell_type": "code",
   "execution_count": null,
   "id": "8a250c70",
   "metadata": {},
   "outputs": [],
   "source": [
    "#H0 -> las variables son independientes \n",
    "#H1 -> las variables son dependientes \n",
    "# p>0.05 rechazamos H0\n",
    "# p>=0.05 aceptamos H0\n",
    "\n",
    "print(\"\"\"En este caso las variables son dependientes porque rechazamos H0 porque el p values es 0,0, es decir, p<0.05.\n",
    "Al ser dependientes, ahora vamos a ver su intensidad en cuanto a su relación con Cramers.\"\"\")"
   ]
  },
  {
   "cell_type": "code",
   "execution_count": null,
   "id": "136db0af",
   "metadata": {},
   "outputs": [],
   "source": [
    "from scipy.stats.contingency import association\n",
    "\n",
    "# Computing the association between variables in 'crosstab_result' using the \"cramer\" method\n",
    "association(crosstab, method=\"cramer\")"
   ]
  },
  {
   "cell_type": "markdown",
   "id": "93fb4979",
   "metadata": {},
   "source": [
    "El coeficiente 0,12 sugiere una relación pobre, vaga entre las dos variables."
   ]
  },
  {
   "cell_type": "markdown",
   "id": "1c725436",
   "metadata": {},
   "source": [
    "3. Visualizations:\n",
    "- Visualize the relationship between product categories and the best-seller status using a stacked bar chart.\n"
   ]
  },
  {
   "cell_type": "code",
   "execution_count": null,
   "id": "b849dd63",
   "metadata": {},
   "outputs": [],
   "source": [
    "#hay muchas categorías por loq ue el eje x es infinito e ilegible , hay que acortar el crosstab. \n",
    "\n",
    "top_categories=corsstab_sorted.head(10)\n",
    "\n",
    "top_categories"
   ]
  },
  {
   "cell_type": "code",
   "execution_count": null,
   "id": "2c2a9b6f",
   "metadata": {},
   "outputs": [],
   "source": [
    "top_categories.plot(kind=\"bar\", stacked=True, figsize=(10, 6), colormap='Set2')\n",
    "plt.title(\"Best Seller Status por Categoría de Producto\")\n",
    "plt.xlabel(\"Categoría\")\n",
    "plt.ylabel(\"Número de Productos\")\n",
    "plt.xticks(rotation=45, ha='right')\n",
    "plt.tight_layout()\n",
    "plt.show()"
   ]
  },
  {
   "cell_type": "markdown",
   "id": "3af36997",
   "metadata": {},
   "source": [
    " ## Part 2: Exploring Product Prices and Ratings Across Categories and Brands\n",
    "\n",
    "\n",
    "Objective: Investigate how different product categories influence product prices.\n",
    "\n",
    "Preliminary Step: Remove outliers in product prices.\n",
    "\n",
    "For this purpose, we can use the IQR (Interquartile Range) method. Products priced below the first quartile minus 1.5 times the IQR or above the third quartile plus 1.5 times the IQR will be considered outliers and removed from the dataset. The next steps will be done with the dataframe without outliers.\n",
    "\n",
    "Hint: you can check the last Check For Understanding at the end of the lesson EDA Bivariate Analysis for a hint on how to do this."
   ]
  },
  {
   "cell_type": "code",
   "execution_count": null,
   "id": "e81cf757",
   "metadata": {},
   "outputs": [],
   "source": [
    "# Eliminar registros con precio nulo (si los hubiera)\n",
    "df = df[df['price'].notna()]"
   ]
  },
  {
   "cell_type": "code",
   "execution_count": null,
   "id": "6fe521c7",
   "metadata": {},
   "outputs": [],
   "source": [
    "# Calcular Q1, Q3 e IQR\n",
    "Q1 = df['price'].quantile(0.25)\n",
    "Q3 = df['price'].quantile(0.75)\n",
    "IQR = Q3 - Q1\n",
    "IQR"
   ]
  },
  {
   "cell_type": "code",
   "execution_count": null,
   "id": "87d12db7",
   "metadata": {},
   "outputs": [],
   "source": [
    "# Definir límites\n",
    "lower_bound = Q1 - 1.5 * IQR\n",
    "upper_bound = Q3 + 1.5 * IQR"
   ]
  },
  {
   "cell_type": "code",
   "execution_count": null,
   "id": "232ae130",
   "metadata": {},
   "outputs": [],
   "source": [
    "# Filtrar el DataFrame para quitar los outliers\n",
    "df_no_outliers = df[(df['price'] >= lower_bound) & (df['price'] <= upper_bound)]\n",
    "\n",
    "# Comprobar nuevo tamaño del dataset\n",
    "print(\"Original:\", df.shape)\n",
    "print(\"Sin outliers:\", df_no_outliers.shape)"
   ]
  },
  {
   "cell_type": "markdown",
   "id": "b58e6e96",
   "metadata": {},
   "source": [
    "1. Violin Plots:\n",
    "\n",
    "- Use a violin plot to visualize the distribution of price across different product categories. Filter out the top 20 categories based on count for better visualization.\n",
    "\n",
    "- Which product category tends to have the highest median price? Don't filter here by top categories.\n"
   ]
  },
  {
   "cell_type": "code",
   "execution_count": null,
   "id": "71b911cc",
   "metadata": {},
   "outputs": [],
   "source": [
    "import seaborn as sns\n",
    "import matplotlib.pyplot as plt\n",
    "\n",
    "# Top 20 categorías con más productos\n",
    "top_20_cats = df_no_outliers['category'].value_counts().head(20).index\n",
    "df_violin = df_no_outliers[df_no_outliers['category'].isin(top_20_cats)]\n",
    "\n",
    "plt.figure(figsize=(15, 8))\n",
    "sns.violinplot(data=df_violin, x='category', y='price', inner='box', palette=\"Set3\")\n",
    "plt.xticks(rotation=45, ha='right')\n",
    "plt.title('Distribución de precios por categoría (Top 20 categorías)')\n",
    "plt.tight_layout()\n",
    "plt.show()\n"
   ]
  },
  {
   "cell_type": "code",
   "execution_count": null,
   "id": "c2191394",
   "metadata": {},
   "outputs": [],
   "source": [
    "df_no_outliers.groupby('category')['price'].median().sort_values(ascending=False).head()\n"
   ]
  },
  {
   "cell_type": "markdown",
   "id": "42db2541",
   "metadata": {},
   "source": [
    "2. Bar Charts:\n",
    "\n",
    "- Create a bar chart comparing the average price of products for the top 10 product categories (based on count).\n",
    "- Which product category commands the highest average price? Don't filter here by top categories."
   ]
  },
  {
   "cell_type": "code",
   "execution_count": null,
   "id": "854004ba",
   "metadata": {},
   "outputs": [],
   "source": [
    "# Calcular precio medio por categoría\n",
    "top_10_cats = df_no_outliers['category'].value_counts().head(10).index\n",
    "df_bar = df_no_outliers[df_no_outliers['category'].isin(top_10_cats)]\n",
    "\n",
    "avg_prices = df_bar.groupby('category')['price'].mean().sort_values(ascending=False)\n",
    "\n",
    "plt.figure(figsize=(12,6))\n",
    "sns.barplot(x=avg_prices.index, y=avg_prices.values, palette=\"muted\")\n",
    "plt.ylabel(\"Precio promedio\")\n",
    "plt.title(\"Precio promedio por categoría (Top 10 más comunes)\")\n",
    "plt.xticks(rotation=45, ha='right')\n",
    "plt.tight_layout()\n",
    "plt.show()"
   ]
  },
  {
   "cell_type": "code",
   "execution_count": null,
   "id": "c771fd1c",
   "metadata": {},
   "outputs": [],
   "source": [
    "df_no_outliers.groupby('category')['price'].mean().sort_values(ascending=False).head()"
   ]
  },
  {
   "cell_type": "markdown",
   "id": "90a08fb3",
   "metadata": {},
   "source": [
    "3. Box Plots:\n",
    "\n",
    "- Visualize the distribution of product ratings based on their category using side-by-side box plots. Filter out the top 10 categories based on count for better visualization.\n",
    "\n",
    "- Which category tends to receive the highest median rating from customers? Don't filter here by top categories."
   ]
  },
  {
   "cell_type": "code",
   "execution_count": null,
   "id": "b4224815",
   "metadata": {},
   "outputs": [],
   "source": [
    "# Top 10 categorías con más productos\n",
    "top_10_rating_cats = df_no_outliers['category'].value_counts().head(10).index\n",
    "df_box = df_no_outliers[df_no_outliers['category'].isin(top_10_rating_cats)]\n",
    "\n",
    "plt.figure(figsize=(14, 6))\n",
    "sns.boxplot(data=df_box, x='category', y='stars', palette='coolwarm')\n",
    "plt.xticks(rotation=45, ha='right')\n",
    "plt.title(\"Distribución de ratings por categoría (Top 10)\")\n",
    "plt.tight_layout()\n",
    "plt.show()\n"
   ]
  },
  {
   "cell_type": "code",
   "execution_count": null,
   "id": "bb36ee55",
   "metadata": {},
   "outputs": [],
   "source": [
    "df_no_outliers.groupby('category')['stars'].median().sort_values(ascending=False).head()"
   ]
  },
  {
   "cell_type": "markdown",
   "id": "0886a8b6",
   "metadata": {},
   "source": [
    " ## Part 3: Investigating the Interplay Between Product Prices and Ratings\n",
    "\n",
    "Objective: Analyze how product ratings (stars) correlate with product prices.\n",
    "\n",
    "1. Correlation Coefficients:\n",
    "- Calculate the correlation coefficient between price and stars.\n",
    "- Is there a significant correlation between product price and its rating?"
   ]
  },
  {
   "cell_type": "code",
   "execution_count": null,
   "id": "b7989ae3",
   "metadata": {},
   "outputs": [],
   "source": [
    "# Calculating the Pearson correlation coefficient between 'stars' and 'price'columns\n",
    "correlation = df['stars'].corr(df['price'])\n",
    "correlation"
   ]
  },
  {
   "cell_type": "markdown",
   "id": "eab7305f",
   "metadata": {},
   "source": [
    "No hay una relación fuerte entre estas variables."
   ]
  },
  {
   "cell_type": "code",
   "execution_count": null,
   "id": "4ffa09b0",
   "metadata": {},
   "outputs": [],
   "source": [
    "# Calculating the Spearman rank correlation \n",
    "correlation = df['stars'].corr(df['price'], method='spearman')\n",
    "correlation"
   ]
  },
  {
   "cell_type": "markdown",
   "id": "7034cda5",
   "metadata": {},
   "source": [
    "LOS PRODUCTOS MÁS CAROS NO TIENDEN A RECIBIR MEJORES NI PEORES RATINS, NI LINEAL NI MONOTÓNICAMENTE."
   ]
  },
  {
   "cell_type": "markdown",
   "id": "d9b40df3",
   "metadata": {},
   "source": [
    "2. Visualizations:\n",
    "- Use a scatter plot to visualize the relationship between product rating and price. What patterns can you observe?\n",
    "- Use a correlation heatmap to visualize correlations between all numerical variables.\n",
    "- Examine if product prices typically follow a normal distribution using a QQ plot."
   ]
  },
  {
   "cell_type": "code",
   "execution_count": null,
   "id": "0f301c03",
   "metadata": {},
   "outputs": [],
   "source": [
    "#1. Scatter plot: Precio vs Rating (stars)\n",
    "\n",
    "import matplotlib.pyplot as plt\n",
    "import seaborn as sns\n",
    "\n",
    "plt.figure(figsize=(10, 6))\n",
    "sns.scatterplot(data=df, x='stars', y='price', alpha=0.5, color='teal')\n",
    "plt.title('Relación entre rating (stars) y precio')\n",
    "plt.xlabel('Rating (stars)')\n",
    "plt.ylabel('Precio')\n",
    "plt.grid(True)\n",
    "plt.show()\n",
    "\n",
    "#Scatter plot: puedes detectar si los productos más caros tienden a tener más o menos estrellas, \n",
    "#o si no hay una relación clara."
   ]
  },
  {
   "cell_type": "code",
   "execution_count": null,
   "id": "63a85b16",
   "metadata": {},
   "outputs": [],
   "source": [
    "#2. Heatmap de correlación entre variables numéricas\n",
    "plt.figure(figsize=(10, 8))\n",
    "correlation_matrix = df.select_dtypes(include='number').corr()\n",
    "\n",
    "sns.heatmap(correlation_matrix, annot=True, cmap='coolwarm', fmt=\".2f\", square=True)\n",
    "plt.title('Mapa de correlación entre variables numéricas')\n",
    "plt.show()\n",
    "\n",
    "#Heatmap: muestra qué variables numéricas están correlacionadas (por ejemplo, price y stars)."
   ]
  },
  {
   "cell_type": "code",
   "execution_count": null,
   "id": "b3c32565",
   "metadata": {},
   "outputs": [],
   "source": [
    "# 3. QQ Plot para ver si price sigue distribución normal\n",
    "import scipy.stats as stats\n",
    "import matplotlib.pyplot as plt\n",
    "\n",
    "plt.figure(figsize=(6, 6))\n",
    "stats.probplot(df_no_outliers['price'], dist=\"norm\", plot=plt)\n",
    "plt.title('QQ Plot para Precio')\n",
    "plt.grid(True)\n",
    "plt.show()\n",
    "\n",
    "#QQ Plot: si los puntos siguen la línea diagonal, la distribución es aproximadamente normal. \n",
    "# #Si se desvían mucho, no lo es (lo más probable, debido a outliers o sesgo).\n"
   ]
  }
 ],
 "metadata": {
  "kernelspec": {
   "display_name": "base",
   "language": "python",
   "name": "python3"
  },
  "language_info": {
   "codemirror_mode": {
    "name": "ipython",
    "version": 3
   },
   "file_extension": ".py",
   "mimetype": "text/x-python",
   "name": "python",
   "nbconvert_exporter": "python",
   "pygments_lexer": "ipython3",
   "version": "3.12.7"
  }
 },
 "nbformat": 4,
 "nbformat_minor": 5
}
